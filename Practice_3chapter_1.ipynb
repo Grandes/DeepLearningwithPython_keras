{
  "nbformat": 4,
  "nbformat_minor": 0,
  "metadata": {
    "colab": {
      "name": "Practice_3chapter_1.ipynb",
      "version": "0.3.2",
      "provenance": [],
      "include_colab_link": true
    },
    "kernelspec": {
      "name": "python3",
      "display_name": "Python 3"
    }
  },
  "cells": [
    {
      "cell_type": "markdown",
      "metadata": {
        "id": "view-in-github",
        "colab_type": "text"
      },
      "source": [
        "<a href=\"https://colab.research.google.com/github/Grandes/DeepLearningwithPython_keras/blob/master/Practice_3chapter_1.ipynb\" target=\"_parent\"><img src=\"https://colab.research.google.com/assets/colab-badge.svg\" alt=\"Open In Colab\"/></a>"
      ]
    },
    {
      "metadata": {
        "id": "AvKm0Iezi0R6",
        "colab_type": "code",
        "colab": {
          "base_uri": "https://localhost:8080/",
          "height": 53
        },
        "outputId": "29abcfcf-6783-430f-c960-1380033509ff"
      },
      "cell_type": "code",
      "source": [
        "import keras\n",
        "keras.__version__"
      ],
      "execution_count": 1,
      "outputs": [
        {
          "output_type": "stream",
          "text": [
            "Using TensorFlow backend.\n"
          ],
          "name": "stderr"
        },
        {
          "output_type": "execute_result",
          "data": {
            "text/plain": [
              "'2.2.4'"
            ]
          },
          "metadata": {
            "tags": []
          },
          "execution_count": 1
        }
      ]
    },
    {
      "metadata": {
        "id": "LQ-aU0FpjXmF",
        "colab_type": "text"
      },
      "cell_type": "markdown",
      "source": [
        "\n",
        "#IMDB 데이터셋\n",
        "인터넷 영화 데이터베이스로부터 가져온 양극단의 리뷰 50,000개로 이루어진 IMDB 데이터셋을 사용하겠습니다. 이 데이터셋은 훈련 데이터 25,000개와 테스트 데이터 25,000개로 나뉘어 있고 각각 50%는 부정, 50%는 긍정 리뷰로 구성되어 있습니다."
      ]
    },
    {
      "metadata": {
        "id": "E0Tli3jvi64A",
        "colab_type": "code",
        "colab": {
          "base_uri": "https://localhost:8080/",
          "height": 53
        },
        "outputId": "c49507f3-b5f1-4c0d-a83f-febcaa0cdf7a"
      },
      "cell_type": "code",
      "source": [
        "#3-1 IMDB 데이터셋 로드하기\n",
        "from keras.datasets import imdb\n",
        "\n",
        "(train_data, train_labels), (test_data, test_labels) = imdb.load_data(num_words = 10000)"
      ],
      "execution_count": 2,
      "outputs": [
        {
          "output_type": "stream",
          "text": [
            "Downloading data from https://s3.amazonaws.com/text-datasets/imdb.npz\n",
            "17465344/17464789 [==============================] - 0s 0us/step\n"
          ],
          "name": "stdout"
        }
      ]
    },
    {
      "metadata": {
        "id": "GFOu6-38meWk",
        "colab_type": "text"
      },
      "cell_type": "markdown",
      "source": [
        "- num_words = 10000 -> 훈련데이터에서 가장 자주 나타나는 단어 1만 개만 사용하겠다는 의미"
      ]
    },
    {
      "metadata": {
        "id": "Q4tVawr2jN-_",
        "colab_type": "code",
        "colab": {
          "base_uri": "https://localhost:8080/",
          "height": 3941
        },
        "outputId": "9d350158-1aeb-4aa7-ca31-73fdbc4860e9"
      },
      "cell_type": "code",
      "source": [
        "train_data[0]"
      ],
      "execution_count": 3,
      "outputs": [
        {
          "output_type": "execute_result",
          "data": {
            "text/plain": [
              "[1,\n",
              " 14,\n",
              " 22,\n",
              " 16,\n",
              " 43,\n",
              " 530,\n",
              " 973,\n",
              " 1622,\n",
              " 1385,\n",
              " 65,\n",
              " 458,\n",
              " 4468,\n",
              " 66,\n",
              " 3941,\n",
              " 4,\n",
              " 173,\n",
              " 36,\n",
              " 256,\n",
              " 5,\n",
              " 25,\n",
              " 100,\n",
              " 43,\n",
              " 838,\n",
              " 112,\n",
              " 50,\n",
              " 670,\n",
              " 2,\n",
              " 9,\n",
              " 35,\n",
              " 480,\n",
              " 284,\n",
              " 5,\n",
              " 150,\n",
              " 4,\n",
              " 172,\n",
              " 112,\n",
              " 167,\n",
              " 2,\n",
              " 336,\n",
              " 385,\n",
              " 39,\n",
              " 4,\n",
              " 172,\n",
              " 4536,\n",
              " 1111,\n",
              " 17,\n",
              " 546,\n",
              " 38,\n",
              " 13,\n",
              " 447,\n",
              " 4,\n",
              " 192,\n",
              " 50,\n",
              " 16,\n",
              " 6,\n",
              " 147,\n",
              " 2025,\n",
              " 19,\n",
              " 14,\n",
              " 22,\n",
              " 4,\n",
              " 1920,\n",
              " 4613,\n",
              " 469,\n",
              " 4,\n",
              " 22,\n",
              " 71,\n",
              " 87,\n",
              " 12,\n",
              " 16,\n",
              " 43,\n",
              " 530,\n",
              " 38,\n",
              " 76,\n",
              " 15,\n",
              " 13,\n",
              " 1247,\n",
              " 4,\n",
              " 22,\n",
              " 17,\n",
              " 515,\n",
              " 17,\n",
              " 12,\n",
              " 16,\n",
              " 626,\n",
              " 18,\n",
              " 2,\n",
              " 5,\n",
              " 62,\n",
              " 386,\n",
              " 12,\n",
              " 8,\n",
              " 316,\n",
              " 8,\n",
              " 106,\n",
              " 5,\n",
              " 4,\n",
              " 2223,\n",
              " 5244,\n",
              " 16,\n",
              " 480,\n",
              " 66,\n",
              " 3785,\n",
              " 33,\n",
              " 4,\n",
              " 130,\n",
              " 12,\n",
              " 16,\n",
              " 38,\n",
              " 619,\n",
              " 5,\n",
              " 25,\n",
              " 124,\n",
              " 51,\n",
              " 36,\n",
              " 135,\n",
              " 48,\n",
              " 25,\n",
              " 1415,\n",
              " 33,\n",
              " 6,\n",
              " 22,\n",
              " 12,\n",
              " 215,\n",
              " 28,\n",
              " 77,\n",
              " 52,\n",
              " 5,\n",
              " 14,\n",
              " 407,\n",
              " 16,\n",
              " 82,\n",
              " 2,\n",
              " 8,\n",
              " 4,\n",
              " 107,\n",
              " 117,\n",
              " 5952,\n",
              " 15,\n",
              " 256,\n",
              " 4,\n",
              " 2,\n",
              " 7,\n",
              " 3766,\n",
              " 5,\n",
              " 723,\n",
              " 36,\n",
              " 71,\n",
              " 43,\n",
              " 530,\n",
              " 476,\n",
              " 26,\n",
              " 400,\n",
              " 317,\n",
              " 46,\n",
              " 7,\n",
              " 4,\n",
              " 2,\n",
              " 1029,\n",
              " 13,\n",
              " 104,\n",
              " 88,\n",
              " 4,\n",
              " 381,\n",
              " 15,\n",
              " 297,\n",
              " 98,\n",
              " 32,\n",
              " 2071,\n",
              " 56,\n",
              " 26,\n",
              " 141,\n",
              " 6,\n",
              " 194,\n",
              " 7486,\n",
              " 18,\n",
              " 4,\n",
              " 226,\n",
              " 22,\n",
              " 21,\n",
              " 134,\n",
              " 476,\n",
              " 26,\n",
              " 480,\n",
              " 5,\n",
              " 144,\n",
              " 30,\n",
              " 5535,\n",
              " 18,\n",
              " 51,\n",
              " 36,\n",
              " 28,\n",
              " 224,\n",
              " 92,\n",
              " 25,\n",
              " 104,\n",
              " 4,\n",
              " 226,\n",
              " 65,\n",
              " 16,\n",
              " 38,\n",
              " 1334,\n",
              " 88,\n",
              " 12,\n",
              " 16,\n",
              " 283,\n",
              " 5,\n",
              " 16,\n",
              " 4472,\n",
              " 113,\n",
              " 103,\n",
              " 32,\n",
              " 15,\n",
              " 16,\n",
              " 5345,\n",
              " 19,\n",
              " 178,\n",
              " 32]"
            ]
          },
          "metadata": {
            "tags": []
          },
          "execution_count": 3
        }
      ]
    },
    {
      "metadata": {
        "id": "UuIjZiRVjiEn",
        "colab_type": "code",
        "colab": {
          "base_uri": "https://localhost:8080/",
          "height": 35
        },
        "outputId": "c384a508-4c37-443d-d94a-42800dcbf865"
      },
      "cell_type": "code",
      "source": [
        "train_labels[0]"
      ],
      "execution_count": 4,
      "outputs": [
        {
          "output_type": "execute_result",
          "data": {
            "text/plain": [
              "1"
            ]
          },
          "metadata": {
            "tags": []
          },
          "execution_count": 4
        }
      ]
    },
    {
      "metadata": {
        "id": "rsN3cip3jox8",
        "colab_type": "code",
        "colab": {
          "base_uri": "https://localhost:8080/",
          "height": 35
        },
        "outputId": "f45fb00b-2e1e-421f-c01c-26e731afbbbe"
      },
      "cell_type": "code",
      "source": [
        "max([max(sequence) for sequence in train_data])"
      ],
      "execution_count": 5,
      "outputs": [
        {
          "output_type": "execute_result",
          "data": {
            "text/plain": [
              "9999"
            ]
          },
          "metadata": {
            "tags": []
          },
          "execution_count": 5
        }
      ]
    },
    {
      "metadata": {
        "id": "0UddGfXbjw6t",
        "colab_type": "code",
        "colab": {}
      },
      "cell_type": "code",
      "source": [
        "# word_index는 단어와 정수 인덱스를 매핑한 딕셔너리입니다.\n",
        "word_index = imdb.get_word_index()\n",
        "# 정수 인덱스와 단어를 매핑하도록 뒤집습니다.\n",
        "reverse_word_index = dict([(value, key) for (key, value) in word_index.items()])\n",
        "# 리뷰를 디코딩합니다.\n",
        "# 0, 1, 2는 '패딩', '문서 시작', '사전에 없음'을 위한 인덱스이므로 3을 뺍니다.\n",
        "decoded_review = ' '.join([reverse_word_index.get(i - 3, '?') for i in train_data[1]])"
      ],
      "execution_count": 0,
      "outputs": []
    },
    {
      "metadata": {
        "id": "C5deotfSkelJ",
        "colab_type": "code",
        "colab": {
          "base_uri": "https://localhost:8080/",
          "height": 55
        },
        "outputId": "5b7003cf-4ee5-4e8d-f21c-92f2498eb640"
      },
      "cell_type": "code",
      "source": [
        "decoded_review"
      ],
      "execution_count": 13,
      "outputs": [
        {
          "output_type": "execute_result",
          "data": {
            "text/plain": [
              "\"? big hair big boobs bad music and a giant safety pin these are the words to best describe this terrible movie i love cheesy horror movies and i've seen hundreds but this had got to be on of the worst ever made the plot is paper thin and ridiculous the acting is an abomination the script is completely laughable the best is the end showdown with the cop and how he worked out who the killer is it's just so damn terribly written the clothes are sickening and funny in equal ? the hair is big lots of boobs ? men wear those cut ? shirts that show off their ? sickening that men actually wore them and the music is just ? trash that plays over and over again in almost every scene there is trashy music boobs and ? taking away bodies and the gym still doesn't close for ? all joking aside this is a truly bad film whose only charm is to look back on the disaster that was the 80's and have a good old laugh at how bad everything was back then\""
            ]
          },
          "metadata": {
            "tags": []
          },
          "execution_count": 13
        }
      ]
    },
    {
      "metadata": {
        "id": "iU1CroxSkjEW",
        "colab_type": "code",
        "colab": {}
      },
      "cell_type": "code",
      "source": [
        "#3-2 정수 시퀀스를 이진 행렬로 인코딩하기\n",
        "import numpy as np\n",
        "\n",
        "def vectorize_sequences(sequences, dimension = 10000):\n",
        "  # 크기가 (len(sequences), dimension))이고 모든 원소가 0인 행렬을 만듭니다\n",
        "  results = np.zeros((len(sequences), dimension))\n",
        "  for i, sequence in enumerate(sequences):\n",
        "    results[i, sequence] = 1. # results[i]에서 특정 인덱스의 위치를 1로 만듭니다\n",
        "  return results\n",
        "\n",
        "# 훈련 데이터를 벡터로 변환합니다\n",
        "x_train = vectorize_sequences(train_data)\n",
        "# 테스트 데이터를 벡터로 변환합니다\n",
        "x_test = vectorize_sequences(test_data)"
      ],
      "execution_count": 0,
      "outputs": []
    },
    {
      "metadata": {
        "id": "CTDLZfaeloNN",
        "colab_type": "code",
        "colab": {
          "base_uri": "https://localhost:8080/",
          "height": 35
        },
        "outputId": "f0c6ecad-16a4-41bd-fc27-eee3ab313788"
      },
      "cell_type": "code",
      "source": [
        "x_train[0]"
      ],
      "execution_count": 10,
      "outputs": [
        {
          "output_type": "execute_result",
          "data": {
            "text/plain": [
              "array([0., 1., 1., ..., 0., 0., 0.])"
            ]
          },
          "metadata": {
            "tags": []
          },
          "execution_count": 10
        }
      ]
    },
    {
      "metadata": {
        "id": "zQIw8pUIl3_c",
        "colab_type": "code",
        "colab": {}
      },
      "cell_type": "code",
      "source": [
        "# 레이블을 벡터로 바꿉니다\n",
        "y_train = np.asarray(train_labels).astype('float32')\n",
        "y_test = np.asarray(test_labels).astype('float32')"
      ],
      "execution_count": 0,
      "outputs": []
    },
    {
      "metadata": {
        "id": "2y3SR9p8mFMl",
        "colab_type": "code",
        "colab": {
          "base_uri": "https://localhost:8080/",
          "height": 71
        },
        "outputId": "6ebb3a52-daf6-428f-e4f9-d5942feab593"
      },
      "cell_type": "code",
      "source": [
        "#3-3 모델 정의하기\n",
        "from keras import models\n",
        "from keras import layers\n",
        "\n",
        "model = models.Sequential()\n",
        "model.add(layers.Dense(16, activation = 'relu', input_shape = (10000,)))\n",
        "model.add(layers.Dense(16, activation = 'relu'))\n",
        "model.add(layers.Dense(1, activation = 'sigmoid'))"
      ],
      "execution_count": 14,
      "outputs": [
        {
          "output_type": "stream",
          "text": [
            "WARNING:tensorflow:From /usr/local/lib/python3.6/dist-packages/tensorflow/python/framework/op_def_library.py:263: colocate_with (from tensorflow.python.framework.ops) is deprecated and will be removed in a future version.\n",
            "Instructions for updating:\n",
            "Colocations handled automatically by placer.\n"
          ],
          "name": "stdout"
        }
      ]
    },
    {
      "metadata": {
        "id": "Nx6ZH4hyoHKY",
        "colab_type": "code",
        "colab": {}
      },
      "cell_type": "code",
      "source": [
        "#3-4 모델 컴파일하기\n",
        "model.compile(optimizer = 'rmsprop', \n",
        "              loss = 'binary_crossentropy', \n",
        "              metrics = ['accuracy'])"
      ],
      "execution_count": 0,
      "outputs": []
    },
    {
      "metadata": {
        "id": "Mvb4QzfaoabQ",
        "colab_type": "code",
        "colab": {}
      },
      "cell_type": "code",
      "source": [
        "#3-5 옵티마이저 설정하기\n",
        "from keras import optimizers\n",
        "\n",
        "model.compile(optimizer = optimizers.RMSprop(lr=0.001),\n",
        "             loss = 'binary_crossentropy',\n",
        "             metrics = ['accuracy'])"
      ],
      "execution_count": 0,
      "outputs": []
    },
    {
      "metadata": {
        "id": "Gld18y1KpNHA",
        "colab_type": "code",
        "colab": {}
      },
      "cell_type": "code",
      "source": [
        "#3-6 손실과 측정을 함수 객체로 지정히기\n",
        "from keras import losses\n",
        "from keras import metrics\n",
        "\n",
        "model.compile(optimizer = optimizers.RMSprop(lr = 0.001),\n",
        "             loss = losses.binary_crossentropy,\n",
        "             metrics = [metrics.binary_accuracy])"
      ],
      "execution_count": 0,
      "outputs": []
    },
    {
      "metadata": {
        "id": "N6oZg_tFpjtr",
        "colab_type": "code",
        "colab": {}
      },
      "cell_type": "code",
      "source": [
        "model.compile(optimizer = 'rmsprop', \n",
        "              loss = 'binary_crossentropy', \n",
        "              metrics = ['accuracy'])"
      ],
      "execution_count": 0,
      "outputs": []
    },
    {
      "metadata": {
        "id": "kR7jfg2Tpoe8",
        "colab_type": "code",
        "colab": {}
      },
      "cell_type": "code",
      "source": [
        "#3-7 검증 세트 준비하기\n",
        "x_val = x_train[:10000]\n",
        "partial_x_train = x_train[10000:]\n",
        "\n",
        "y_val = y_train[:10000]\n",
        "partial_y_train = y_train[10000:]"
      ],
      "execution_count": 0,
      "outputs": []
    },
    {
      "metadata": {
        "id": "NBUNBUGwp9xA",
        "colab_type": "code",
        "colab": {
          "base_uri": "https://localhost:8080/",
          "height": 809
        },
        "outputId": "931d67e1-5b98-47de-a40a-6f715d3c82f2"
      },
      "cell_type": "code",
      "source": [
        "#3-8 모델 훈련하기\n",
        "model.compile(optimizer = 'rmsprop', \n",
        "              loss = 'binary_crossentropy', \n",
        "              metrics = ['acc'])\n",
        "\n",
        "history = model.fit(partial_x_train,\n",
        "                   partial_y_train,\n",
        "                   epochs = 20,\n",
        "                   batch_size = 512,\n",
        "                   validation_data = (x_val, y_val))"
      ],
      "execution_count": 23,
      "outputs": [
        {
          "output_type": "stream",
          "text": [
            "WARNING:tensorflow:From /usr/local/lib/python3.6/dist-packages/tensorflow/python/ops/math_ops.py:3066: to_int32 (from tensorflow.python.ops.math_ops) is deprecated and will be removed in a future version.\n",
            "Instructions for updating:\n",
            "Use tf.cast instead.\n",
            "Train on 15000 samples, validate on 10000 samples\n",
            "Epoch 1/20\n",
            "15000/15000 [==============================] - 3s 168us/step - loss: 0.5086 - acc: 0.7813 - val_loss: 0.3796 - val_acc: 0.8694\n",
            "Epoch 2/20\n",
            "15000/15000 [==============================] - 2s 142us/step - loss: 0.3006 - acc: 0.9055 - val_loss: 0.3005 - val_acc: 0.8899\n",
            "Epoch 3/20\n",
            "15000/15000 [==============================] - 2s 136us/step - loss: 0.2180 - acc: 0.9282 - val_loss: 0.3087 - val_acc: 0.8710\n",
            "Epoch 4/20\n",
            "15000/15000 [==============================] - 2s 138us/step - loss: 0.1750 - acc: 0.9434 - val_loss: 0.2840 - val_acc: 0.8838\n",
            "Epoch 5/20\n",
            "15000/15000 [==============================] - 2s 139us/step - loss: 0.1426 - acc: 0.9542 - val_loss: 0.2847 - val_acc: 0.8868\n",
            "Epoch 6/20\n",
            "15000/15000 [==============================] - 2s 138us/step - loss: 0.1149 - acc: 0.9653 - val_loss: 0.3158 - val_acc: 0.8775\n",
            "Epoch 7/20\n",
            "15000/15000 [==============================] - 2s 137us/step - loss: 0.0979 - acc: 0.9706 - val_loss: 0.3127 - val_acc: 0.8844\n",
            "Epoch 8/20\n",
            "15000/15000 [==============================] - 2s 139us/step - loss: 0.0807 - acc: 0.9764 - val_loss: 0.3855 - val_acc: 0.8654\n",
            "Epoch 9/20\n",
            "15000/15000 [==============================] - 2s 138us/step - loss: 0.0660 - acc: 0.9822 - val_loss: 0.3635 - val_acc: 0.8779\n",
            "Epoch 10/20\n",
            "15000/15000 [==============================] - 2s 138us/step - loss: 0.0555 - acc: 0.9853 - val_loss: 0.3841 - val_acc: 0.8791\n",
            "Epoch 11/20\n",
            "15000/15000 [==============================] - 2s 138us/step - loss: 0.0453 - acc: 0.9890 - val_loss: 0.4165 - val_acc: 0.8766\n",
            "Epoch 12/20\n",
            "15000/15000 [==============================] - 2s 138us/step - loss: 0.0385 - acc: 0.9914 - val_loss: 0.4501 - val_acc: 0.8697\n",
            "Epoch 13/20\n",
            "15000/15000 [==============================] - 2s 136us/step - loss: 0.0298 - acc: 0.9929 - val_loss: 0.4695 - val_acc: 0.8734\n",
            "Epoch 14/20\n",
            "15000/15000 [==============================] - 2s 138us/step - loss: 0.0244 - acc: 0.9949 - val_loss: 0.5020 - val_acc: 0.8720\n",
            "Epoch 15/20\n",
            "15000/15000 [==============================] - 2s 138us/step - loss: 0.0176 - acc: 0.9979 - val_loss: 0.5387 - val_acc: 0.8687\n",
            "Epoch 16/20\n",
            "15000/15000 [==============================] - 2s 137us/step - loss: 0.0171 - acc: 0.9965 - val_loss: 0.5722 - val_acc: 0.8697\n",
            "Epoch 17/20\n",
            "15000/15000 [==============================] - 2s 136us/step - loss: 0.0093 - acc: 0.9995 - val_loss: 0.6199 - val_acc: 0.8646\n",
            "Epoch 18/20\n",
            "15000/15000 [==============================] - 2s 137us/step - loss: 0.0114 - acc: 0.9975 - val_loss: 0.6386 - val_acc: 0.8668\n",
            "Epoch 19/20\n",
            "15000/15000 [==============================] - 2s 137us/step - loss: 0.0110 - acc: 0.9975 - val_loss: 0.6786 - val_acc: 0.8658\n",
            "Epoch 20/20\n",
            "15000/15000 [==============================] - 2s 137us/step - loss: 0.0040 - acc: 0.9999 - val_loss: 0.6907 - val_acc: 0.8650\n"
          ],
          "name": "stdout"
        }
      ]
    },
    {
      "metadata": {
        "id": "wEOiMkSvqS7N",
        "colab_type": "code",
        "colab": {
          "base_uri": "https://localhost:8080/",
          "height": 35
        },
        "outputId": "9e5b4383-0253-47ce-e304-6d8bfc4398fe"
      },
      "cell_type": "code",
      "source": [
        "history_dict = history.history\n",
        "history_dict.keys()"
      ],
      "execution_count": 24,
      "outputs": [
        {
          "output_type": "execute_result",
          "data": {
            "text/plain": [
              "dict_keys(['val_loss', 'val_acc', 'loss', 'acc'])"
            ]
          },
          "metadata": {
            "tags": []
          },
          "execution_count": 24
        }
      ]
    },
    {
      "metadata": {
        "id": "vEB71WJOql4n",
        "colab_type": "code",
        "colab": {
          "base_uri": "https://localhost:8080/",
          "height": 376
        },
        "outputId": "b7dc8c28-eb3c-4551-8850-10fae82db9e8"
      },
      "cell_type": "code",
      "source": [
        "#3-9 훈련과 검증 손실 그리기\n",
        "import matplotlib.pyplot as plt\n",
        "\n",
        "history_dict = history.history\n",
        "loss = history_dict['loss']\n",
        "val_loss = history_dict['val_loss']\n",
        "\n",
        "epochs = range(1, len(loss) + 1)\n",
        "\n",
        "plt.plot(epochs, loss, 'bo', label = 'Trainning loss')\n",
        "plt.plot(epochs, val_loss, 'b', label = 'Validation loss')\n",
        "plt.title('Training and Validation loss')\n",
        "plt.xlabel('Epochs')\n",
        "plt.ylabel('Loss')\n",
        "plt.legend\n",
        "\n",
        "plt.show()"
      ],
      "execution_count": 26,
      "outputs": [
        {
          "output_type": "display_data",
          "data": {
            "image/png": "[encoded data removed]",
            "text/plain": [
              "<Figure size 576x396 with 1 Axes>"
            ]
          },
          "metadata": {
            "tags": []
          }
        }
      ]
    },
    {
      "metadata": {
        "id": "7khjzaQjrU4L",
        "colab_type": "code",
        "colab": {
          "base_uri": "https://localhost:8080/",
          "height": 376
        },
        "outputId": "5e44ae42-f04b-4808-cf3f-501869b434b7"
      },
      "cell_type": "code",
      "source": [
        "#3-10 훈련과 검증 정확도 그리기\n",
        "plt.clf()   #  그래프를 초기화합니다\n",
        "acc = history_dict['acc']\n",
        "val_acc = history_dict['val_acc']\n",
        "\n",
        "plt.plot(epochs, acc, 'bo', label = 'Training acc')\n",
        "plt.plot(epochs, val_acc, 'b', label = 'Validation acc')\n",
        "plt.title('Training and validation accuracy')\n",
        "plt.xlabel('Epochs')\n",
        "plt.ylabel('Accuracy')\n",
        "plt.legend()\n",
        "\n",
        "plt.show()"
      ],
      "execution_count": 28,
      "outputs": [
        {
          "output_type": "display_data",
          "data": {
            "image/png": "[encoded data removed]",
            "text/plain": [
              "<Figure size 576x396 with 1 Axes>"
            ]
          },
          "metadata": {
            "tags": []
          }
        }
      ]
    },
    {
      "metadata": {
        "id": "VqSHbeovsClp",
        "colab_type": "code",
        "colab": {
          "base_uri": "https://localhost:8080/",
          "height": 179
        },
        "outputId": "f6b128c4-cdac-49da-c29a-cadbdd443a1b"
      },
      "cell_type": "code",
      "source": [
        "#3-11 모델을 처으부터 다시 훈련하기\n",
        "model = models.Sequential()\n",
        "model.add(layers.Dense(16, activation = 'relu', input_shape = (10000,)))\n",
        "model.add(layers.Dense(16, activation = 'relu'))\n",
        "model.add(layers.Dense(1, activation = 'sigmoid'))\n",
        "\n",
        "model.compile(optimizer = 'rmsprop',\n",
        "             loss = 'binary_crossentropy',\n",
        "             metrics = ['accuracy'])\n",
        "\n",
        "model.fit(x_train, y_train, epochs = 4, batch_size = 512)\n",
        "results = model.evaluate(x_test, y_test)"
      ],
      "execution_count": 29,
      "outputs": [
        {
          "output_type": "stream",
          "text": [
            "Epoch 1/4\n",
            "25000/25000 [==============================] - 3s 110us/step - loss: 0.4743 - acc: 0.8216\n",
            "Epoch 2/4\n",
            "25000/25000 [==============================] - 2s 100us/step - loss: 0.2677 - acc: 0.9094\n",
            "Epoch 3/4\n",
            "25000/25000 [==============================] - 2s 96us/step - loss: 0.2032 - acc: 0.9284\n",
            "Epoch 4/4\n",
            "25000/25000 [==============================] - 2s 96us/step - loss: 0.1712 - acc: 0.9390\n",
            "25000/25000 [==============================] - 2s 72us/step\n"
          ],
          "name": "stdout"
        }
      ]
    },
    {
      "metadata": {
        "id": "7YXq_w39tF4R",
        "colab_type": "code",
        "colab": {
          "base_uri": "https://localhost:8080/",
          "height": 35
        },
        "outputId": "2a35f913-8450-4812-c0e4-0673210e6ee6"
      },
      "cell_type": "code",
      "source": [
        "results"
      ],
      "execution_count": 30,
      "outputs": [
        {
          "output_type": "execute_result",
          "data": {
            "text/plain": [
              "[0.3103916131496429, 0.87648]"
            ]
          },
          "metadata": {
            "tags": []
          },
          "execution_count": 30
        }
      ]
    },
    {
      "metadata": {
        "id": "UHiBUyJqtJ61",
        "colab_type": "code",
        "colab": {
          "base_uri": "https://localhost:8080/",
          "height": 143
        },
        "outputId": "7b6534ac-d1a3-4711-a29f-396b0428aac3"
      },
      "cell_type": "code",
      "source": [
        "model.predict(x_test)"
      ],
      "execution_count": 31,
      "outputs": [
        {
          "output_type": "execute_result",
          "data": {
            "text/plain": [
              "array([[0.16139841],\n",
              "       [0.99985474],\n",
              "       [0.40916446],\n",
              "       ...,\n",
              "       [0.08264065],\n",
              "       [0.05104297],\n",
              "       [0.46109003]], dtype=float32)"
            ]
          },
          "metadata": {
            "tags": []
          },
          "execution_count": 31
        }
      ]
    },
    {
      "metadata": {
        "id": "isgSvjmrthf3",
        "colab_type": "code",
        "colab": {
          "base_uri": "https://localhost:8080/",
          "height": 197
        },
        "outputId": "2ae82b12-a953-4355-c962-07d7187e467c"
      },
      "cell_type": "code",
      "source": [
        "model = models.Sequential()\n",
        "model.add(layers.Dense(16, activation = 'relu', input_shape = (10000,)))\n",
        "model.add(layers.Dense(16, activation = 'relu'))\n",
        "model.add(layers.Dense(1, activation = 'sigmoid'))\n",
        "\n",
        "model.compile(optimizer = 'rmsprop',\n",
        "             loss = 'binary_crossentropy',\n",
        "             metrics = ['accuracy'])\n",
        "\n",
        "history = model.fit(partial_x_train,\n",
        "                   partial_y_train,\n",
        "                   epochs = 4,\n",
        "                   batch_size = 512,\n",
        "                   validation_data = (x_val, y_val))\n",
        "\n",
        "history_dict = history.history\n",
        "history_dict.keys()"
      ],
      "execution_count": 43,
      "outputs": [
        {
          "output_type": "stream",
          "text": [
            "Train on 15000 samples, validate on 10000 samples\n",
            "Epoch 1/4\n",
            "15000/15000 [==============================] - 3s 183us/step - loss: 0.5145 - acc: 0.7828 - val_loss: 0.3804 - val_acc: 0.8738\n",
            "Epoch 2/4\n",
            "15000/15000 [==============================] - 2s 140us/step - loss: 0.2996 - acc: 0.9052 - val_loss: 0.2994 - val_acc: 0.8889\n",
            "Epoch 3/4\n",
            "15000/15000 [==============================] - 2s 136us/step - loss: 0.2226 - acc: 0.9271 - val_loss: 0.2879 - val_acc: 0.8860\n",
            "Epoch 4/4\n",
            "15000/15000 [==============================] - 2s 138us/step - loss: 0.1723 - acc: 0.9467 - val_loss: 0.2750 - val_acc: 0.8904\n"
          ],
          "name": "stdout"
        },
        {
          "output_type": "execute_result",
          "data": {
            "text/plain": [
              "dict_keys(['val_loss', 'val_acc', 'loss', 'acc'])"
            ]
          },
          "metadata": {
            "tags": []
          },
          "execution_count": 43
        }
      ]
    },
    {
      "metadata": {
        "id": "9PwTDS7CtN0_",
        "colab_type": "code",
        "colab": {
          "base_uri": "https://localhost:8080/",
          "height": 376
        },
        "outputId": "1f9d2062-6e1f-4a12-c51b-d30fdb1ddda1"
      },
      "cell_type": "code",
      "source": [
        "plt.clf()   #  그래프를 초기화합니다\n",
        "acc = history_dict['acc']\n",
        "val_acc = history_dict['val_acc']\n",
        "\n",
        "epochs = range(1, len(acc) + 1)\n",
        "\n",
        "plt.plot(epochs, acc, 'bo', label = 'Training acc')\n",
        "plt.plot(epochs, val_acc, 'b', label = 'Validation acc')\n",
        "plt.title('Training and validation accuracy')\n",
        "plt.xlabel('Epochs')\n",
        "plt.ylabel('Accuracy')\n",
        "plt.legend()\n",
        "\n",
        "plt.show()"
      ],
      "execution_count": 44,
      "outputs": [
        {
          "output_type": "display_data",
          "data": {
            "image/png": "[encoded data removed]",
            "text/plain": [
              "<Figure size 576x396 with 1 Axes>"
            ]
          },
          "metadata": {
            "tags": []
          }
        }
      ]
    },
    {
      "metadata": {
        "id": "LgO5rs_rtaEX",
        "colab_type": "code",
        "colab": {}
      },
      "cell_type": "code",
      "source": [
        ""
      ],
      "execution_count": 0,
      "outputs": []
    }
  ]
}